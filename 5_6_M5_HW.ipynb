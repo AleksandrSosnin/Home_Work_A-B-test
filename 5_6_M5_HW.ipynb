{
  "cells": [
    {
      "cell_type": "markdown",
      "metadata": {
        "id": "view-in-github",
        "colab_type": "text"
      },
      "source": [
        "<a href=\"https://colab.research.google.com/github/AleksandrSosnin/Home_Work_A-B-test/blob/main/5_6_M5_HW.ipynb\" target=\"_parent\"><img src=\"https://colab.research.google.com/assets/colab-badge.svg\" alt=\"Open In Colab\"/></a>"
      ]
    },
    {
      "cell_type": "markdown",
      "metadata": {
        "id": "JOQGpgDRYyeN"
      },
      "source": [
        "<p style=\"align: center;\"><img align=center src=\"https://mailfit.com/wp-content/uploads/2019/11/lego-5.png\"  width=900></p>\n",
        "<h1 style=\"text-align: center;\"><b>«Домашняя работа» - Множественное тестирование</b></h3>\n"
      ]
    },
    {
      "cell_type": "markdown",
      "metadata": {
        "id": "-23_qz2CYyeP"
      },
      "source": [
        "## Импорт библиотек"
      ]
    },
    {
      "cell_type": "code",
      "execution_count": 10,
      "metadata": {
        "id": "l09HeikxYyeP"
      },
      "outputs": [],
      "source": [
        "import numpy as np\n",
        "import pandas as pd\n",
        "\n",
        "import scipy\n",
        "\n",
        "import matplotlib.pyplot as plt\n",
        "import seaborn as sns\n",
        "sns.set_theme()\n",
        "from scipy.stats import f_oneway"
      ]
    },
    {
      "cell_type": "markdown",
      "metadata": {
        "id": "Z0woNImNYyeQ"
      },
      "source": [
        "## Импорт данных"
      ]
    },
    {
      "cell_type": "code",
      "execution_count": 2,
      "metadata": {
        "colab": {
          "base_uri": "https://localhost:8080/",
          "height": 286
        },
        "id": "mHGKewp2YyeQ",
        "outputId": "eefefb5d-a336-4328-e7fa-a10e5a7b0809"
      },
      "outputs": [
        {
          "output_type": "stream",
          "name": "stdout",
          "text": [
            "Размеры датасета (6000, 9)\n"
          ]
        },
        {
          "output_type": "execute_result",
          "data": {
            "text/plain": [
              "    was_married  children        salary  sex   age     profession  \\\n",
              "id                                                                  \n",
              "0             1       4.0  4.420530e+07    1  82.0       Engineer   \n",
              "1             1       2.0  1.737490e+08    1  32.0         Doctor   \n",
              "2             1       6.0  2.489055e+08    1  14.0  Entertainment   \n",
              "3             0       1.0  1.268718e+08    0  10.0         Lawyer   \n",
              "4             1       9.0  8.596042e+07    1  99.0         Artist   \n",
              "5             1       3.0  2.474979e+06    0  21.0      Homemaker   \n",
              "\n",
              "       home_cost  drive_info  happyness  \n",
              "id                                       \n",
              "0   1.003674e+07         NaN   0.727499  \n",
              "1   1.014051e+07         0.0   0.383234  \n",
              "2   1.043318e+07         NaN   0.432142  \n",
              "3   1.004299e+07         NaN   0.377987  \n",
              "4   1.021908e+07         NaN   0.657579  \n",
              "5   1.001654e+07         1.0   0.326801  "
            ],
            "text/html": [
              "\n",
              "  <div id=\"df-7b503a7c-854e-4c87-b03e-ddba56f3e37a\" class=\"colab-df-container\">\n",
              "    <div>\n",
              "<style scoped>\n",
              "    .dataframe tbody tr th:only-of-type {\n",
              "        vertical-align: middle;\n",
              "    }\n",
              "\n",
              "    .dataframe tbody tr th {\n",
              "        vertical-align: top;\n",
              "    }\n",
              "\n",
              "    .dataframe thead th {\n",
              "        text-align: right;\n",
              "    }\n",
              "</style>\n",
              "<table border=\"1\" class=\"dataframe\">\n",
              "  <thead>\n",
              "    <tr style=\"text-align: right;\">\n",
              "      <th></th>\n",
              "      <th>was_married</th>\n",
              "      <th>children</th>\n",
              "      <th>salary</th>\n",
              "      <th>sex</th>\n",
              "      <th>age</th>\n",
              "      <th>profession</th>\n",
              "      <th>home_cost</th>\n",
              "      <th>drive_info</th>\n",
              "      <th>happyness</th>\n",
              "    </tr>\n",
              "    <tr>\n",
              "      <th>id</th>\n",
              "      <th></th>\n",
              "      <th></th>\n",
              "      <th></th>\n",
              "      <th></th>\n",
              "      <th></th>\n",
              "      <th></th>\n",
              "      <th></th>\n",
              "      <th></th>\n",
              "      <th></th>\n",
              "    </tr>\n",
              "  </thead>\n",
              "  <tbody>\n",
              "    <tr>\n",
              "      <th>0</th>\n",
              "      <td>1</td>\n",
              "      <td>4.0</td>\n",
              "      <td>4.420530e+07</td>\n",
              "      <td>1</td>\n",
              "      <td>82.0</td>\n",
              "      <td>Engineer</td>\n",
              "      <td>1.003674e+07</td>\n",
              "      <td>NaN</td>\n",
              "      <td>0.727499</td>\n",
              "    </tr>\n",
              "    <tr>\n",
              "      <th>1</th>\n",
              "      <td>1</td>\n",
              "      <td>2.0</td>\n",
              "      <td>1.737490e+08</td>\n",
              "      <td>1</td>\n",
              "      <td>32.0</td>\n",
              "      <td>Doctor</td>\n",
              "      <td>1.014051e+07</td>\n",
              "      <td>0.0</td>\n",
              "      <td>0.383234</td>\n",
              "    </tr>\n",
              "    <tr>\n",
              "      <th>2</th>\n",
              "      <td>1</td>\n",
              "      <td>6.0</td>\n",
              "      <td>2.489055e+08</td>\n",
              "      <td>1</td>\n",
              "      <td>14.0</td>\n",
              "      <td>Entertainment</td>\n",
              "      <td>1.043318e+07</td>\n",
              "      <td>NaN</td>\n",
              "      <td>0.432142</td>\n",
              "    </tr>\n",
              "    <tr>\n",
              "      <th>3</th>\n",
              "      <td>0</td>\n",
              "      <td>1.0</td>\n",
              "      <td>1.268718e+08</td>\n",
              "      <td>0</td>\n",
              "      <td>10.0</td>\n",
              "      <td>Lawyer</td>\n",
              "      <td>1.004299e+07</td>\n",
              "      <td>NaN</td>\n",
              "      <td>0.377987</td>\n",
              "    </tr>\n",
              "    <tr>\n",
              "      <th>4</th>\n",
              "      <td>1</td>\n",
              "      <td>9.0</td>\n",
              "      <td>8.596042e+07</td>\n",
              "      <td>1</td>\n",
              "      <td>99.0</td>\n",
              "      <td>Artist</td>\n",
              "      <td>1.021908e+07</td>\n",
              "      <td>NaN</td>\n",
              "      <td>0.657579</td>\n",
              "    </tr>\n",
              "    <tr>\n",
              "      <th>5</th>\n",
              "      <td>1</td>\n",
              "      <td>3.0</td>\n",
              "      <td>2.474979e+06</td>\n",
              "      <td>0</td>\n",
              "      <td>21.0</td>\n",
              "      <td>Homemaker</td>\n",
              "      <td>1.001654e+07</td>\n",
              "      <td>1.0</td>\n",
              "      <td>0.326801</td>\n",
              "    </tr>\n",
              "  </tbody>\n",
              "</table>\n",
              "</div>\n",
              "    <div class=\"colab-df-buttons\">\n",
              "\n",
              "  <div class=\"colab-df-container\">\n",
              "    <button class=\"colab-df-convert\" onclick=\"convertToInteractive('df-7b503a7c-854e-4c87-b03e-ddba56f3e37a')\"\n",
              "            title=\"Convert this dataframe to an interactive table.\"\n",
              "            style=\"display:none;\">\n",
              "\n",
              "  <svg xmlns=\"http://www.w3.org/2000/svg\" height=\"24px\" viewBox=\"0 -960 960 960\">\n",
              "    <path d=\"M120-120v-720h720v720H120Zm60-500h600v-160H180v160Zm220 220h160v-160H400v160Zm0 220h160v-160H400v160ZM180-400h160v-160H180v160Zm440 0h160v-160H620v160ZM180-180h160v-160H180v160Zm440 0h160v-160H620v160Z\"/>\n",
              "  </svg>\n",
              "    </button>\n",
              "\n",
              "  <style>\n",
              "    .colab-df-container {\n",
              "      display:flex;\n",
              "      gap: 12px;\n",
              "    }\n",
              "\n",
              "    .colab-df-convert {\n",
              "      background-color: #E8F0FE;\n",
              "      border: none;\n",
              "      border-radius: 50%;\n",
              "      cursor: pointer;\n",
              "      display: none;\n",
              "      fill: #1967D2;\n",
              "      height: 32px;\n",
              "      padding: 0 0 0 0;\n",
              "      width: 32px;\n",
              "    }\n",
              "\n",
              "    .colab-df-convert:hover {\n",
              "      background-color: #E2EBFA;\n",
              "      box-shadow: 0px 1px 2px rgba(60, 64, 67, 0.3), 0px 1px 3px 1px rgba(60, 64, 67, 0.15);\n",
              "      fill: #174EA6;\n",
              "    }\n",
              "\n",
              "    .colab-df-buttons div {\n",
              "      margin-bottom: 4px;\n",
              "    }\n",
              "\n",
              "    [theme=dark] .colab-df-convert {\n",
              "      background-color: #3B4455;\n",
              "      fill: #D2E3FC;\n",
              "    }\n",
              "\n",
              "    [theme=dark] .colab-df-convert:hover {\n",
              "      background-color: #434B5C;\n",
              "      box-shadow: 0px 1px 3px 1px rgba(0, 0, 0, 0.15);\n",
              "      filter: drop-shadow(0px 1px 2px rgba(0, 0, 0, 0.3));\n",
              "      fill: #FFFFFF;\n",
              "    }\n",
              "  </style>\n",
              "\n",
              "    <script>\n",
              "      const buttonEl =\n",
              "        document.querySelector('#df-7b503a7c-854e-4c87-b03e-ddba56f3e37a button.colab-df-convert');\n",
              "      buttonEl.style.display =\n",
              "        google.colab.kernel.accessAllowed ? 'block' : 'none';\n",
              "\n",
              "      async function convertToInteractive(key) {\n",
              "        const element = document.querySelector('#df-7b503a7c-854e-4c87-b03e-ddba56f3e37a');\n",
              "        const dataTable =\n",
              "          await google.colab.kernel.invokeFunction('convertToInteractive',\n",
              "                                                    [key], {});\n",
              "        if (!dataTable) return;\n",
              "\n",
              "        const docLinkHtml = 'Like what you see? Visit the ' +\n",
              "          '<a target=\"_blank\" href=https://colab.research.google.com/notebooks/data_table.ipynb>data table notebook</a>'\n",
              "          + ' to learn more about interactive tables.';\n",
              "        element.innerHTML = '';\n",
              "        dataTable['output_type'] = 'display_data';\n",
              "        await google.colab.output.renderOutput(dataTable, element);\n",
              "        const docLink = document.createElement('div');\n",
              "        docLink.innerHTML = docLinkHtml;\n",
              "        element.appendChild(docLink);\n",
              "      }\n",
              "    </script>\n",
              "  </div>\n",
              "\n",
              "\n",
              "<div id=\"df-0682e71f-06a0-4cba-b59a-8183e04aa62a\">\n",
              "  <button class=\"colab-df-quickchart\" onclick=\"quickchart('df-0682e71f-06a0-4cba-b59a-8183e04aa62a')\"\n",
              "            title=\"Suggest charts\"\n",
              "            style=\"display:none;\">\n",
              "\n",
              "<svg xmlns=\"http://www.w3.org/2000/svg\" height=\"24px\"viewBox=\"0 0 24 24\"\n",
              "     width=\"24px\">\n",
              "    <g>\n",
              "        <path d=\"M19 3H5c-1.1 0-2 .9-2 2v14c0 1.1.9 2 2 2h14c1.1 0 2-.9 2-2V5c0-1.1-.9-2-2-2zM9 17H7v-7h2v7zm4 0h-2V7h2v10zm4 0h-2v-4h2v4z\"/>\n",
              "    </g>\n",
              "</svg>\n",
              "  </button>\n",
              "\n",
              "<style>\n",
              "  .colab-df-quickchart {\n",
              "      --bg-color: #E8F0FE;\n",
              "      --fill-color: #1967D2;\n",
              "      --hover-bg-color: #E2EBFA;\n",
              "      --hover-fill-color: #174EA6;\n",
              "      --disabled-fill-color: #AAA;\n",
              "      --disabled-bg-color: #DDD;\n",
              "  }\n",
              "\n",
              "  [theme=dark] .colab-df-quickchart {\n",
              "      --bg-color: #3B4455;\n",
              "      --fill-color: #D2E3FC;\n",
              "      --hover-bg-color: #434B5C;\n",
              "      --hover-fill-color: #FFFFFF;\n",
              "      --disabled-bg-color: #3B4455;\n",
              "      --disabled-fill-color: #666;\n",
              "  }\n",
              "\n",
              "  .colab-df-quickchart {\n",
              "    background-color: var(--bg-color);\n",
              "    border: none;\n",
              "    border-radius: 50%;\n",
              "    cursor: pointer;\n",
              "    display: none;\n",
              "    fill: var(--fill-color);\n",
              "    height: 32px;\n",
              "    padding: 0;\n",
              "    width: 32px;\n",
              "  }\n",
              "\n",
              "  .colab-df-quickchart:hover {\n",
              "    background-color: var(--hover-bg-color);\n",
              "    box-shadow: 0 1px 2px rgba(60, 64, 67, 0.3), 0 1px 3px 1px rgba(60, 64, 67, 0.15);\n",
              "    fill: var(--button-hover-fill-color);\n",
              "  }\n",
              "\n",
              "  .colab-df-quickchart-complete:disabled,\n",
              "  .colab-df-quickchart-complete:disabled:hover {\n",
              "    background-color: var(--disabled-bg-color);\n",
              "    fill: var(--disabled-fill-color);\n",
              "    box-shadow: none;\n",
              "  }\n",
              "\n",
              "  .colab-df-spinner {\n",
              "    border: 2px solid var(--fill-color);\n",
              "    border-color: transparent;\n",
              "    border-bottom-color: var(--fill-color);\n",
              "    animation:\n",
              "      spin 1s steps(1) infinite;\n",
              "  }\n",
              "\n",
              "  @keyframes spin {\n",
              "    0% {\n",
              "      border-color: transparent;\n",
              "      border-bottom-color: var(--fill-color);\n",
              "      border-left-color: var(--fill-color);\n",
              "    }\n",
              "    20% {\n",
              "      border-color: transparent;\n",
              "      border-left-color: var(--fill-color);\n",
              "      border-top-color: var(--fill-color);\n",
              "    }\n",
              "    30% {\n",
              "      border-color: transparent;\n",
              "      border-left-color: var(--fill-color);\n",
              "      border-top-color: var(--fill-color);\n",
              "      border-right-color: var(--fill-color);\n",
              "    }\n",
              "    40% {\n",
              "      border-color: transparent;\n",
              "      border-right-color: var(--fill-color);\n",
              "      border-top-color: var(--fill-color);\n",
              "    }\n",
              "    60% {\n",
              "      border-color: transparent;\n",
              "      border-right-color: var(--fill-color);\n",
              "    }\n",
              "    80% {\n",
              "      border-color: transparent;\n",
              "      border-right-color: var(--fill-color);\n",
              "      border-bottom-color: var(--fill-color);\n",
              "    }\n",
              "    90% {\n",
              "      border-color: transparent;\n",
              "      border-bottom-color: var(--fill-color);\n",
              "    }\n",
              "  }\n",
              "</style>\n",
              "\n",
              "  <script>\n",
              "    async function quickchart(key) {\n",
              "      const quickchartButtonEl =\n",
              "        document.querySelector('#' + key + ' button');\n",
              "      quickchartButtonEl.disabled = true;  // To prevent multiple clicks.\n",
              "      quickchartButtonEl.classList.add('colab-df-spinner');\n",
              "      try {\n",
              "        const charts = await google.colab.kernel.invokeFunction(\n",
              "            'suggestCharts', [key], {});\n",
              "      } catch (error) {\n",
              "        console.error('Error during call to suggestCharts:', error);\n",
              "      }\n",
              "      quickchartButtonEl.classList.remove('colab-df-spinner');\n",
              "      quickchartButtonEl.classList.add('colab-df-quickchart-complete');\n",
              "    }\n",
              "    (() => {\n",
              "      let quickchartButtonEl =\n",
              "        document.querySelector('#df-0682e71f-06a0-4cba-b59a-8183e04aa62a button');\n",
              "      quickchartButtonEl.style.display =\n",
              "        google.colab.kernel.accessAllowed ? 'block' : 'none';\n",
              "    })();\n",
              "  </script>\n",
              "</div>\n",
              "\n",
              "    </div>\n",
              "  </div>\n"
            ],
            "application/vnd.google.colaboratory.intrinsic+json": {
              "type": "dataframe",
              "variable_name": "data",
              "summary": "{\n  \"name\": \"data\",\n  \"rows\": 6000,\n  \"fields\": [\n    {\n      \"column\": \"id\",\n      \"properties\": {\n        \"dtype\": \"number\",\n        \"std\": 1670,\n        \"min\": 0,\n        \"max\": 5499,\n        \"num_unique_values\": 5500,\n        \"samples\": [\n          4747,\n          1199,\n          5222\n        ],\n        \"semantic_type\": \"\",\n        \"description\": \"\"\n      }\n    },\n    {\n      \"column\": \"was_married\",\n      \"properties\": {\n        \"dtype\": \"number\",\n        \"std\": 0,\n        \"min\": 0,\n        \"max\": 1,\n        \"num_unique_values\": 2,\n        \"samples\": [\n          0,\n          1\n        ],\n        \"semantic_type\": \"\",\n        \"description\": \"\"\n      }\n    },\n    {\n      \"column\": \"children\",\n      \"properties\": {\n        \"dtype\": \"number\",\n        \"std\": 2.850284662859503,\n        \"min\": 0.0,\n        \"max\": 9.0,\n        \"num_unique_values\": 7,\n        \"samples\": [\n          4.0,\n          2.0\n        ],\n        \"semantic_type\": \"\",\n        \"description\": \"\"\n      }\n    },\n    {\n      \"column\": \"salary\",\n      \"properties\": {\n        \"dtype\": \"number\",\n        \"std\": 80221297.05740306,\n        \"min\": 1765712.353619084,\n        \"max\": 345927135.61149085,\n        \"num_unique_values\": 6000,\n        \"samples\": [\n          2030148.992508214,\n          23526409.701305974\n        ],\n        \"semantic_type\": \"\",\n        \"description\": \"\"\n      }\n    },\n    {\n      \"column\": \"sex\",\n      \"properties\": {\n        \"dtype\": \"number\",\n        \"std\": 0,\n        \"min\": 0,\n        \"max\": 1,\n        \"num_unique_values\": 2,\n        \"samples\": [\n          0,\n          1\n        ],\n        \"semantic_type\": \"\",\n        \"description\": \"\"\n      }\n    },\n    {\n      \"column\": \"age\",\n      \"properties\": {\n        \"dtype\": \"number\",\n        \"std\": 32.546372044788164,\n        \"min\": 2.0,\n        \"max\": 100.0,\n        \"num_unique_values\": 20,\n        \"samples\": [\n          82.0,\n          33.0\n        ],\n        \"semantic_type\": \"\",\n        \"description\": \"\"\n      }\n    },\n    {\n      \"column\": \"profession\",\n      \"properties\": {\n        \"dtype\": \"category\",\n        \"num_unique_values\": 9,\n        \"samples\": [\n          \"Healthcare\",\n          \"Doctor\"\n        ],\n        \"semantic_type\": \"\",\n        \"description\": \"\"\n      }\n    },\n    {\n      \"column\": \"home_cost\",\n      \"properties\": {\n        \"dtype\": \"number\",\n        \"std\": 312006.64268940827,\n        \"min\": 9824378.17956564,\n        \"max\": 20657915.51438855,\n        \"num_unique_values\": 5500,\n        \"samples\": [\n          10142087.622610103,\n          10127959.182073647\n        ],\n        \"semantic_type\": \"\",\n        \"description\": \"\"\n      }\n    },\n    {\n      \"column\": \"drive_info\",\n      \"properties\": {\n        \"dtype\": \"number\",\n        \"std\": 0.44449225551941024,\n        \"min\": 0.0,\n        \"max\": 1.0,\n        \"num_unique_values\": 2,\n        \"samples\": [\n          1.0,\n          0.0\n        ],\n        \"semantic_type\": \"\",\n        \"description\": \"\"\n      }\n    },\n    {\n      \"column\": \"happyness\",\n      \"properties\": {\n        \"dtype\": \"number\",\n        \"std\": 0.15372650797965168,\n        \"min\": 0.0,\n        \"max\": 1.0,\n        \"num_unique_values\": 6000,\n        \"samples\": [\n          0.4489957391292867,\n          0.4275951511826555\n        ],\n        \"semantic_type\": \"\",\n        \"description\": \"\"\n      }\n    }\n  ]\n}"
            }
          },
          "metadata": {},
          "execution_count": 2
        }
      ],
      "source": [
        "data_path = \"https://raw.githubusercontent.com/a-milenkin/mipt_data_science_2021/main/data/people_data_clustering.csv\"\n",
        "data = pd.read_csv(data_path, index_col=0)\n",
        "print(\"Размеры датасета\", data.shape)\n",
        "data.head(6)"
      ]
    },
    {
      "cell_type": "markdown",
      "metadata": {
        "id": "RJAIjHVDYyeR"
      },
      "source": [
        "<div class=\"alert alert-info\">\n",
        "<b>Про Датасет</b>\n",
        "    \n",
        "Датасет представляет собой информацию по жителям некоторого города.\n",
        "\n",
        "* `was_married` - Был ли когда-либо женат/замужем\n",
        "* `children` - Количество детей\n",
        "* `salary` - Уровень зарплаты\n",
        "* `sex` - Пол (0 - женщина, 1 - мужчина)\n",
        "* `age` - Возраст\n",
        "* `home_cost` - Сумарная стоимость жилья/недвижимости\n",
        "* `Professon` - Профессия\n",
        "* `drive_info` - Есть ли водительские права\n",
        "* `happyness` - уровень счастья по результатам опроса\n",
        "    \n",
        "</div>"
      ]
    },
    {
      "cell_type": "code",
      "execution_count": null,
      "metadata": {
        "id": "CYMW5czSYyeR"
      },
      "outputs": [],
      "source": [
        ""
      ]
    },
    {
      "cell_type": "markdown",
      "metadata": {
        "id": "l2qC4AYHYyeR"
      },
      "source": [
        "<div class=\"alert alert-info\">\n",
        "<b>Задание</b>\n",
        "\n",
        "Изучить датасет, выполнить задания и проверить некоторые гипотезы, предложенные ниже, опираясь уже **НЕ** только на визуализацию. Само задание выполнить на языке **Python**.\n",
        "   "
      ]
    },
    {
      "cell_type": "code",
      "execution_count": null,
      "metadata": {
        "id": "394nxEx1YyeR"
      },
      "outputs": [],
      "source": [
        ""
      ]
    },
    {
      "cell_type": "markdown",
      "metadata": {
        "id": "o30h3h0iYyeR"
      },
      "source": [
        "# Чистка датасета\n",
        "* Есть ли дубли в данных? Если есть - удалить (drop_duplicates).\n",
        "* Есть ли пропуски в данных? Если есть - удалить столбцы, в которых они есть. (dropna())\n",
        "* Найти и удалить/отфильтровать выбросы по признаку `home_cost`. Сколько их?"
      ]
    },
    {
      "cell_type": "code",
      "execution_count": 4,
      "metadata": {
        "colab": {
          "base_uri": "https://localhost:8080/"
        },
        "id": "Mx4XtK6kYyeS",
        "outputId": "5fb949a4-b303-4009-bcb4-e387f1fc474a"
      },
      "outputs": [
        {
          "output_type": "stream",
          "name": "stdout",
          "text": [
            "Количество дубликатов, найденных и удаленных: 0\n"
          ]
        }
      ],
      "source": [
        "duplicates = data .duplicated().sum()\n",
        "df = data.drop_duplicates()\n",
        "print(f'Количество дубликатов, найденных и удаленных: {duplicates}')"
      ]
    },
    {
      "cell_type": "code",
      "source": [
        "# 2. Проверка на пропуски и удаление столбцов с пропусками\n",
        "missing_data = data.isnull().sum()\n",
        "columns_with_na = missing_data[missing_data > 0].index.tolist()\n",
        "data_cleaned = data.dropna(axis=1)\n",
        "print(f'Удалены следующие столбцы с пропусками: {columns_with_na}')"
      ],
      "metadata": {
        "colab": {
          "base_uri": "https://localhost:8080/"
        },
        "id": "TvqCfkhKZb8F",
        "outputId": "2ae75e27-53ee-4ecc-8e80-119f1de8e88b"
      },
      "execution_count": 5,
      "outputs": [
        {
          "output_type": "stream",
          "name": "stdout",
          "text": [
            "Удалены следующие столбцы с пропусками: ['drive_info']\n"
          ]
        }
      ]
    },
    {
      "cell_type": "code",
      "source": [
        "# 3. Поиск и удаление выбросов по признаку home_cost\n",
        "# Предположим, что выбросы будем определять как значения, которые выходят за пределы 1.5 IQR\n",
        "\n",
        "Q1 = data_cleaned['home_cost'].quantile(0.25)\n",
        "Q3 = data_cleaned['home_cost'].quantile(0.75)\n",
        "IQR = Q3 - Q1\n",
        "lower_bound = Q1 - 1.5 * IQR\n",
        "upper_bound = Q3 + 1.5 * IQR\n",
        "\n",
        "outliers = data_cleaned[(data_cleaned['home_cost'] < lower_bound) | (data_cleaned['home_cost'] > upper_bound)]\n",
        "data_cleaned = data_cleaned[(data_cleaned['home_cost'] >= lower_bound) & (data_cleaned['home_cost'] <= upper_bound)]\n",
        "\n",
        "print(f'Количество выбросов по признаку home_cost: {outliers.shape[0]}')"
      ],
      "metadata": {
        "colab": {
          "base_uri": "https://localhost:8080/"
        },
        "id": "WVO5obOXZjV_",
        "outputId": "5934f017-de16-4947-e56a-d0e3e7289bff"
      },
      "execution_count": 6,
      "outputs": [
        {
          "output_type": "stream",
          "name": "stdout",
          "text": [
            "Количество выбросов по признаку home_cost: 13\n"
          ]
        }
      ]
    },
    {
      "cell_type": "markdown",
      "metadata": {
        "id": "41N10P1QYyeS"
      },
      "source": [
        "# Проверка гипотез"
      ]
    },
    {
      "cell_type": "markdown",
      "metadata": {
        "id": "g4ygECoHYyeS"
      },
      "source": [
        "# Изучение датасета\n",
        "* Какие признаки численные?\n",
        "* Какие признаки категориальные?\n",
        "* Какие признаки имеют нормальное распределение?\n",
        "* Какие признаки бессмысленные?"
      ]
    },
    {
      "cell_type": "markdown",
      "metadata": {
        "id": "_fROt6ZuYyeS"
      },
      "source": [
        "<div class=\"alert alert-info\">\n",
        "\n",
        "<b>Задание:</b>    \n",
        "    \n",
        "Перед вами уже знакомый датасет, который был дан в прошлых домашних заданиях. Вы уже научились применить подходящий статистический критерий для двух групп, теперь вам предстоит научиться верно применять критерии для нескольких групп одновременно.\n",
        "    "
      ]
    },
    {
      "cell_type": "markdown",
      "metadata": {
        "id": "0UO2rtf9YyeS"
      },
      "source": [
        "<div class=\"alert alert-warning\">\n",
        "    \n",
        "* Правда ли между представителями таких профессий как, **Homemaker**, **Marketing**, **Healthcare** и **Executive** в среднем  зарплаты не отличаются между собой? Ответ подкрепите визуализацией и подходящим статистическим критерием."
      ]
    },
    {
      "cell_type": "code",
      "execution_count": 7,
      "metadata": {
        "id": "cXoqKOa8YyeS"
      },
      "outputs": [],
      "source": [
        "# Фильтрация данных по нужным профессиям\n",
        "professions_of_interest = ['Homemaker', 'Marketing', 'Healthcare', 'Executive']\n",
        "filtered_data = data[data['profession'].isin(professions_of_interest)]"
      ]
    },
    {
      "cell_type": "code",
      "source": [
        "# Визуализация зарплат по профессиям\n",
        "plt.figure(figsize=(12, 6))\n",
        "sns.boxplot(x='profession', y='salary', data=filtered_data)\n",
        "plt.title('Распределение зарплат по профессиям')\n",
        "plt.show()"
      ],
      "metadata": {
        "colab": {
          "base_uri": "https://localhost:8080/",
          "height": 573
        },
        "id": "NdvCkmGcb57s",
        "outputId": "8cf549d5-8a88-4c6b-8273-170be9caa7cf"
      },
      "execution_count": 8,
      "outputs": [
        {
          "output_type": "display_data",
          "data": {
            "text/plain": [
              "<Figure size 1200x600 with 1 Axes>"
            ],
            "image/png": "[encoded data removed]"
          },
          "metadata": {}
        }
      ]
    },
    {
      "cell_type": "code",
      "source": [
        "# Применение ANOVA\n",
        "groups = [filtered_data[filtered_data['profession'] == profession]['salary']\n",
        "          for profession in professions_of_interest]\n",
        "\n",
        "f_statistic, p_value = f_oneway(*groups)"
      ],
      "metadata": {
        "id": "Ft0BAsGXb-f0"
      },
      "execution_count": 11,
      "outputs": []
    },
    {
      "cell_type": "code",
      "source": [
        "# Интерпретация результатов\n",
        "alpha = 0.05\n",
        "if p_value < alpha:\n",
        "    print(\"Средние зарплаты между профессиями значительно отличаются.\")\n",
        "else:\n",
        "    print(\"Средние зарплаты между профессиями не отличаются.\")"
      ],
      "metadata": {
        "colab": {
          "base_uri": "https://localhost:8080/"
        },
        "id": "lGThxp3acI_V",
        "outputId": "d48fe34d-840a-4929-91c6-91b452d91f31"
      },
      "execution_count": 12,
      "outputs": [
        {
          "output_type": "stream",
          "name": "stdout",
          "text": [
            "Средние зарплаты между профессиями значительно отличаются.\n"
          ]
        }
      ]
    },
    {
      "cell_type": "markdown",
      "metadata": {
        "id": "u1DyPRXSYyeS"
      },
      "source": [
        "<div class=\"alert alert-warning\">\n",
        "    \n",
        "* Правда ли между представителями таких профессий как, **Doctor**, **Entertainment** и **Lawyer** в среднем  зарплаты не отличаются между собой? Ответ подкрепите визуализацией и подходящим статистическим критерием."
      ]
    },
    {
      "cell_type": "code",
      "execution_count": 13,
      "metadata": {
        "id": "7Ih_6eCNYyeS"
      },
      "outputs": [],
      "source": [
        " # Фильтрация данных по нужным профессиям\n",
        "professions_of_interest = ['Doctor', 'Entertainment', 'Lawyer']\n",
        "filtered_data = data[data['profession'].isin(professions_of_interest)]"
      ]
    },
    {
      "cell_type": "code",
      "source": [
        "# Визуализация зарплат по профессиям\n",
        "plt.figure(figsize=(10, 6))\n",
        "sns.boxplot(x='profession', y='salary', data=filtered_data)\n",
        "plt.title('Распределение зарплат по профессиям')\n",
        "plt.show()"
      ],
      "metadata": {
        "colab": {
          "base_uri": "https://localhost:8080/",
          "height": 573
        },
        "id": "jeYJOk4jcXOt",
        "outputId": "712393fb-365b-457d-bc8b-6184e777bcad"
      },
      "execution_count": 14,
      "outputs": [
        {
          "output_type": "display_data",
          "data": {
            "text/plain": [
              "<Figure size 1000x600 with 1 Axes>"
            ],
            "image/png": "[encoded data removed]"
          },
          "metadata": {}
        }
      ]
    },
    {
      "cell_type": "code",
      "source": [
        "# Применение ANOVA\n",
        "groups = [filtered_data[filtered_data['profession'] == profession]['salary']\n",
        "          for profession in professions_of_interest]\n",
        "\n",
        "f_statistic, p_value = f_oneway(*groups)\n",
        "\n",
        "print(f'F-статистика: {f_statistic}')\n",
        "print(f'p-значение: {p_value}')"
      ],
      "metadata": {
        "colab": {
          "base_uri": "https://localhost:8080/"
        },
        "id": "uUcHucAUcw0l",
        "outputId": "ff0eb460-48bf-4c3d-fe7a-707b1b32dd79"
      },
      "execution_count": 15,
      "outputs": [
        {
          "output_type": "stream",
          "name": "stdout",
          "text": [
            "F-статистика: 89.56052385242255\n",
            "p-значение: 5.67666591800931e-38\n"
          ]
        }
      ]
    },
    {
      "cell_type": "code",
      "source": [
        "# Интерпретация результатов\n",
        "alpha = 0.05\n",
        "if p_value < alpha:\n",
        "    print(\"Средние зарплаты между профессиями значительно отличаются.\")\n",
        "else:\n",
        "    print(\"Средние зарплаты между профессиями не отличаются.\")"
      ],
      "metadata": {
        "colab": {
          "base_uri": "https://localhost:8080/"
        },
        "id": "AV5P5KEmc1-A",
        "outputId": "b7ea9e81-f559-4e5a-8ef3-f220de28e89a"
      },
      "execution_count": 16,
      "outputs": [
        {
          "output_type": "stream",
          "name": "stdout",
          "text": [
            "Средние зарплаты между профессиями значительно отличаются.\n"
          ]
        }
      ]
    },
    {
      "cell_type": "markdown",
      "metadata": {
        "id": "XyiVKoO6YyeS"
      },
      "source": [
        "<div class=\"alert alert-warning\">\n",
        "    \n",
        "Допустим вы рассматриваете 4 группы населения, отличающихся количеством  детей. Группы следующие.\n",
        "* **A** - нет детей\n",
        "* **B** - 1 ребенок\n",
        "* **C** - от 2 до 4 детей\n",
        "* **D** - от 5 детей    \n",
        "    \n",
        "    \n",
        "* Правда ли, что эти группы отличаются статистически значимо по уровню дохода и уровню счастья? Ответ поддержите статистическими критериями и визуализацией"
      ]
    },
    {
      "cell_type": "code",
      "execution_count": 17,
      "metadata": {
        "id": "Gs0a-D1TYyeS"
      },
      "outputs": [],
      "source": [
        "# Функция для создания группы по количеству детей\n",
        "def categorize_children(children):\n",
        "    if children == 0:\n",
        "        return 'A - нет детей'\n",
        "    elif children == 1:\n",
        "        return 'B - 1 ребенок'\n",
        "    elif 2 <= children <= 4:\n",
        "        return 'C - от 2 до 4 детей'\n",
        "    elif children >= 5:\n",
        "        return 'D - от 5 детей'\n",
        "    else:\n",
        "        return 'Неопределенно'"
      ]
    },
    {
      "cell_type": "code",
      "source": [
        "# Применение функции к данным\n",
        "data['children_group'] = data['children'].apply(categorize_children)"
      ],
      "metadata": {
        "id": "cht2PQtRdPw4"
      },
      "execution_count": 18,
      "outputs": []
    },
    {
      "cell_type": "code",
      "source": [
        "# Фильтрация данных по группам\n",
        "groups = data['children_group'].unique()"
      ],
      "metadata": {
        "id": "km2OFv1LdSsD"
      },
      "execution_count": 19,
      "outputs": []
    },
    {
      "cell_type": "code",
      "source": [
        "# Визуализация дохода и счастья по группам\n",
        "fig, axes = plt.subplots(1, 2, figsize=(18, 6))\n",
        "\n",
        "# Визуализация дохода\n",
        "sns.boxplot(x='children_group', y='salary', data=data, ax=axes[0])\n",
        "axes[0].set_title('Распределение дохода по группам')\n",
        "\n",
        "# Визуализация счастья\n",
        "sns.boxplot(x='children_group', y='happyness', data=data, ax=axes[1])\n",
        "axes[1].set_title('Распределение счастья по группам')\n",
        "plt.tight_layout()\n",
        "plt.show()"
      ],
      "metadata": {
        "colab": {
          "base_uri": "https://localhost:8080/",
          "height": 480
        },
        "id": "55aLhvdNdVLj",
        "outputId": "838c907b-8bfc-45bb-8ffa-963e7ec201aa"
      },
      "execution_count": 24,
      "outputs": [
        {
          "output_type": "display_data",
          "data": {
            "text/plain": [
              "<Figure size 1800x600 with 2 Axes>"
            ],
            "image/png": "[encoded data removed]"
          },
          "metadata": {}
        }
      ]
    },
    {
      "cell_type": "code",
      "source": [
        "# Применение ANOVA для дохода\n",
        "salary_groups = [data[data['children_group'] == group]['salary'] for group in groups]\n",
        "f_statistic_salary, p_value_salary = f_oneway(*salary_groups)\n",
        "\n",
        "print(f'F-статистика для дохода: {f_statistic_salary}')\n",
        "print(f'p-значение для дохода: {p_value_salary}')"
      ],
      "metadata": {
        "colab": {
          "base_uri": "https://localhost:8080/"
        },
        "id": "0VM0uUUQd1U7",
        "outputId": "4c916ce6-df0d-409b-8a6c-dfbb46536227"
      },
      "execution_count": 25,
      "outputs": [
        {
          "output_type": "stream",
          "name": "stdout",
          "text": [
            "F-статистика для дохода: 1020.3162924766956\n",
            "p-значение для дохода: 0.0\n"
          ]
        }
      ]
    },
    {
      "cell_type": "code",
      "source": [
        "# Применение ANOVA для счастья\n",
        "happyness_groups = [data[data['children_group'] == group]['happyness'] for group in groups]\n",
        "f_statistic_happyness, p_value_happyness = f_oneway(*happyness_groups)\n",
        "\n",
        "print(f'F-статистика для счастья: {f_statistic_happyness}')\n",
        "print(f'p-значение для счастья: {p_value_happyness}')"
      ],
      "metadata": {
        "colab": {
          "base_uri": "https://localhost:8080/"
        },
        "id": "gVddQkztd4eX",
        "outputId": "a2942c7b-87f5-49eb-ee82-65892a3edbaf"
      },
      "execution_count": 26,
      "outputs": [
        {
          "output_type": "stream",
          "name": "stdout",
          "text": [
            "F-статистика для счастья: 907.441460254017\n",
            "p-значение для счастья: 0.0\n"
          ]
        }
      ]
    },
    {
      "cell_type": "code",
      "source": [
        "# Интерпретация результатов\n",
        "alpha = 0.05\n",
        "print(\"\\nРезультаты тестов:\")\n",
        "if p_value_salary < alpha:\n",
        "    print(\"Доходы между группами статистически значимо различаются.\")\n",
        "else:\n",
        "    print(\"Доходы между группами не отличаются статистически значимо.\")\n",
        "\n",
        "if p_value_happyness < alpha:\n",
        "    print(\"Уровни счастья между группами статистически значимо различаются.\")\n",
        "else:\n",
        "    print(\"Уровни счастья между группами не отличаются статистически значимо.\")"
      ],
      "metadata": {
        "colab": {
          "base_uri": "https://localhost:8080/"
        },
        "id": "PDxQ3iy6d7xd",
        "outputId": "5e1efe32-dae2-4b4c-a4aa-e6aaa2bad1c4"
      },
      "execution_count": 27,
      "outputs": [
        {
          "output_type": "stream",
          "name": "stdout",
          "text": [
            "\n",
            "Результаты тестов:\n",
            "Доходы между группами статистически значимо различаются.\n",
            "Уровни счастья между группами статистически значимо различаются.\n"
          ]
        }
      ]
    }
  ],
  "metadata": {
    "kernelspec": {
      "display_name": "Python 3",
      "language": "python",
      "name": "python3"
    },
    "language_info": {
      "codemirror_mode": {
        "name": "ipython",
        "version": 3
      },
      "file_extension": ".py",
      "mimetype": "text/x-python",
      "name": "python",
      "nbconvert_exporter": "python",
      "pygments_lexer": "ipython3",
      "version": "3.8.5"
    },
    "toc": {
      "base_numbering": 1,
      "nav_menu": {},
      "number_sections": true,
      "sideBar": true,
      "skip_h1_title": false,
      "title_cell": "Table of Contents",
      "title_sidebar": "Contents",
      "toc_cell": false,
      "toc_position": {},
      "toc_section_display": true,
      "toc_window_display": false
    },
    "colab": {
      "provenance": [],
      "include_colab_link": true
    }
  },
  "nbformat": 4,
  "nbformat_minor": 0
}